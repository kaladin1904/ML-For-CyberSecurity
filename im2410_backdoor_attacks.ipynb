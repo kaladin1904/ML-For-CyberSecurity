{
 "cells": [
  {
   "cell_type": "markdown",
   "metadata": {},
   "source": [
    "### Initial Installation"
   ]
  },
  {
   "cell_type": "code",
   "execution_count": 140,
   "metadata": {
    "colab": {
     "base_uri": "https://localhost:8080/"
    },
    "id": "5OWg5H6krGKl",
    "outputId": "bc509e9e-21c5-4b58-b25b-21923bbb5089",
    "scrolled": true
   },
   "outputs": [
    {
     "name": "stdout",
     "output_type": "stream",
     "text": [
      "Requirement already satisfied: tensorflow in /Library/Frameworks/Python.framework/Versions/3.10/lib/python3.10/site-packages (2.15.0)\n",
      "Requirement already satisfied: tensorflow-macos==2.15.0 in /Library/Frameworks/Python.framework/Versions/3.10/lib/python3.10/site-packages (from tensorflow) (2.15.0)\n",
      "Requirement already satisfied: absl-py>=1.0.0 in /Library/Frameworks/Python.framework/Versions/3.10/lib/python3.10/site-packages (from tensorflow-macos==2.15.0->tensorflow) (2.0.0)\n",
      "Requirement already satisfied: astunparse>=1.6.0 in /Library/Frameworks/Python.framework/Versions/3.10/lib/python3.10/site-packages (from tensorflow-macos==2.15.0->tensorflow) (1.6.3)\n",
      "Requirement already satisfied: flatbuffers>=23.5.26 in /Library/Frameworks/Python.framework/Versions/3.10/lib/python3.10/site-packages (from tensorflow-macos==2.15.0->tensorflow) (23.5.26)\n",
      "Requirement already satisfied: gast!=0.5.0,!=0.5.1,!=0.5.2,>=0.2.1 in /Library/Frameworks/Python.framework/Versions/3.10/lib/python3.10/site-packages (from tensorflow-macos==2.15.0->tensorflow) (0.5.4)\n",
      "Requirement already satisfied: google-pasta>=0.1.1 in /Library/Frameworks/Python.framework/Versions/3.10/lib/python3.10/site-packages (from tensorflow-macos==2.15.0->tensorflow) (0.2.0)\n",
      "Requirement already satisfied: h5py>=2.9.0 in /Library/Frameworks/Python.framework/Versions/3.10/lib/python3.10/site-packages (from tensorflow-macos==2.15.0->tensorflow) (3.10.0)\n",
      "Requirement already satisfied: libclang>=13.0.0 in /Library/Frameworks/Python.framework/Versions/3.10/lib/python3.10/site-packages (from tensorflow-macos==2.15.0->tensorflow) (16.0.6)\n",
      "Requirement already satisfied: ml-dtypes~=0.2.0 in /Library/Frameworks/Python.framework/Versions/3.10/lib/python3.10/site-packages (from tensorflow-macos==2.15.0->tensorflow) (0.2.0)\n",
      "Requirement already satisfied: numpy<2.0.0,>=1.23.5 in /Library/Frameworks/Python.framework/Versions/3.10/lib/python3.10/site-packages (from tensorflow-macos==2.15.0->tensorflow) (1.26.2)\n",
      "Requirement already satisfied: opt-einsum>=2.3.2 in /Library/Frameworks/Python.framework/Versions/3.10/lib/python3.10/site-packages (from tensorflow-macos==2.15.0->tensorflow) (3.3.0)\n",
      "Requirement already satisfied: packaging in /Library/Frameworks/Python.framework/Versions/3.10/lib/python3.10/site-packages (from tensorflow-macos==2.15.0->tensorflow) (23.0)\n",
      "Requirement already satisfied: protobuf!=4.21.0,!=4.21.1,!=4.21.2,!=4.21.3,!=4.21.4,!=4.21.5,<5.0.0dev,>=3.20.3 in /Library/Frameworks/Python.framework/Versions/3.10/lib/python3.10/site-packages (from tensorflow-macos==2.15.0->tensorflow) (4.23.4)\n",
      "Requirement already satisfied: setuptools in /Library/Frameworks/Python.framework/Versions/3.10/lib/python3.10/site-packages (from tensorflow-macos==2.15.0->tensorflow) (63.2.0)\n",
      "Requirement already satisfied: six>=1.12.0 in /Library/Frameworks/Python.framework/Versions/3.10/lib/python3.10/site-packages (from tensorflow-macos==2.15.0->tensorflow) (1.16.0)\n",
      "Requirement already satisfied: termcolor>=1.1.0 in /Library/Frameworks/Python.framework/Versions/3.10/lib/python3.10/site-packages (from tensorflow-macos==2.15.0->tensorflow) (2.3.0)\n",
      "Requirement already satisfied: typing-extensions>=3.6.6 in /Library/Frameworks/Python.framework/Versions/3.10/lib/python3.10/site-packages (from tensorflow-macos==2.15.0->tensorflow) (4.5.0)\n",
      "Requirement already satisfied: wrapt<1.15,>=1.11.0 in /Library/Frameworks/Python.framework/Versions/3.10/lib/python3.10/site-packages (from tensorflow-macos==2.15.0->tensorflow) (1.14.1)\n",
      "Requirement already satisfied: tensorflow-io-gcs-filesystem>=0.23.1 in /Library/Frameworks/Python.framework/Versions/3.10/lib/python3.10/site-packages (from tensorflow-macos==2.15.0->tensorflow) (0.34.0)\n",
      "Requirement already satisfied: grpcio<2.0,>=1.24.3 in /Library/Frameworks/Python.framework/Versions/3.10/lib/python3.10/site-packages (from tensorflow-macos==2.15.0->tensorflow) (1.59.3)\n",
      "Requirement already satisfied: tensorboard<2.16,>=2.15 in /Library/Frameworks/Python.framework/Versions/3.10/lib/python3.10/site-packages (from tensorflow-macos==2.15.0->tensorflow) (2.15.1)\n",
      "Requirement already satisfied: tensorflow-estimator<2.16,>=2.15.0 in /Library/Frameworks/Python.framework/Versions/3.10/lib/python3.10/site-packages (from tensorflow-macos==2.15.0->tensorflow) (2.15.0)\n",
      "Requirement already satisfied: keras<2.16,>=2.15.0 in /Library/Frameworks/Python.framework/Versions/3.10/lib/python3.10/site-packages (from tensorflow-macos==2.15.0->tensorflow) (2.15.0)\n",
      "Requirement already satisfied: wheel<1.0,>=0.23.0 in /Library/Frameworks/Python.framework/Versions/3.10/lib/python3.10/site-packages (from astunparse>=1.6.0->tensorflow-macos==2.15.0->tensorflow) (0.42.0)\n",
      "Requirement already satisfied: google-auth<3,>=1.6.3 in /Library/Frameworks/Python.framework/Versions/3.10/lib/python3.10/site-packages (from tensorboard<2.16,>=2.15->tensorflow-macos==2.15.0->tensorflow) (2.23.4)\n",
      "Requirement already satisfied: google-auth-oauthlib<2,>=0.5 in /Library/Frameworks/Python.framework/Versions/3.10/lib/python3.10/site-packages (from tensorboard<2.16,>=2.15->tensorflow-macos==2.15.0->tensorflow) (1.1.0)\n",
      "Requirement already satisfied: markdown>=2.6.8 in /Library/Frameworks/Python.framework/Versions/3.10/lib/python3.10/site-packages (from tensorboard<2.16,>=2.15->tensorflow-macos==2.15.0->tensorflow) (3.5.1)\n",
      "Requirement already satisfied: requests<3,>=2.21.0 in /Library/Frameworks/Python.framework/Versions/3.10/lib/python3.10/site-packages (from tensorboard<2.16,>=2.15->tensorflow-macos==2.15.0->tensorflow) (2.28.2)\n",
      "Requirement already satisfied: tensorboard-data-server<0.8.0,>=0.7.0 in /Library/Frameworks/Python.framework/Versions/3.10/lib/python3.10/site-packages (from tensorboard<2.16,>=2.15->tensorflow-macos==2.15.0->tensorflow) (0.7.2)\n",
      "Requirement already satisfied: werkzeug>=1.0.1 in /Library/Frameworks/Python.framework/Versions/3.10/lib/python3.10/site-packages (from tensorboard<2.16,>=2.15->tensorflow-macos==2.15.0->tensorflow) (3.0.1)\n",
      "Requirement already satisfied: cachetools<6.0,>=2.0.0 in /Library/Frameworks/Python.framework/Versions/3.10/lib/python3.10/site-packages (from google-auth<3,>=1.6.3->tensorboard<2.16,>=2.15->tensorflow-macos==2.15.0->tensorflow) (5.3.2)\n",
      "Requirement already satisfied: pyasn1-modules>=0.2.1 in /Library/Frameworks/Python.framework/Versions/3.10/lib/python3.10/site-packages (from google-auth<3,>=1.6.3->tensorboard<2.16,>=2.15->tensorflow-macos==2.15.0->tensorflow) (0.3.0)\n",
      "Requirement already satisfied: rsa<5,>=3.1.4 in /Library/Frameworks/Python.framework/Versions/3.10/lib/python3.10/site-packages (from google-auth<3,>=1.6.3->tensorboard<2.16,>=2.15->tensorflow-macos==2.15.0->tensorflow) (4.9)\n",
      "Requirement already satisfied: requests-oauthlib>=0.7.0 in /Library/Frameworks/Python.framework/Versions/3.10/lib/python3.10/site-packages (from google-auth-oauthlib<2,>=0.5->tensorboard<2.16,>=2.15->tensorflow-macos==2.15.0->tensorflow) (1.3.1)\n",
      "Requirement already satisfied: charset-normalizer<4,>=2 in /Library/Frameworks/Python.framework/Versions/3.10/lib/python3.10/site-packages (from requests<3,>=2.21.0->tensorboard<2.16,>=2.15->tensorflow-macos==2.15.0->tensorflow) (3.1.0)\n",
      "Requirement already satisfied: idna<4,>=2.5 in /Library/Frameworks/Python.framework/Versions/3.10/lib/python3.10/site-packages (from requests<3,>=2.21.0->tensorboard<2.16,>=2.15->tensorflow-macos==2.15.0->tensorflow) (3.4)\n",
      "Requirement already satisfied: urllib3<1.27,>=1.21.1 in /Library/Frameworks/Python.framework/Versions/3.10/lib/python3.10/site-packages (from requests<3,>=2.21.0->tensorboard<2.16,>=2.15->tensorflow-macos==2.15.0->tensorflow) (1.26.14)\n",
      "Requirement already satisfied: certifi>=2017.4.17 in /Library/Frameworks/Python.framework/Versions/3.10/lib/python3.10/site-packages (from requests<3,>=2.21.0->tensorboard<2.16,>=2.15->tensorflow-macos==2.15.0->tensorflow) (2022.12.7)\n",
      "Requirement already satisfied: MarkupSafe>=2.1.1 in /Library/Frameworks/Python.framework/Versions/3.10/lib/python3.10/site-packages (from werkzeug>=1.0.1->tensorboard<2.16,>=2.15->tensorflow-macos==2.15.0->tensorflow) (2.1.2)\n",
      "Requirement already satisfied: pyasn1<0.6.0,>=0.4.6 in /Library/Frameworks/Python.framework/Versions/3.10/lib/python3.10/site-packages (from pyasn1-modules>=0.2.1->google-auth<3,>=1.6.3->tensorboard<2.16,>=2.15->tensorflow-macos==2.15.0->tensorflow) (0.5.1)\n",
      "Requirement already satisfied: oauthlib>=3.0.0 in /Library/Frameworks/Python.framework/Versions/3.10/lib/python3.10/site-packages (from requests-oauthlib>=0.7.0->google-auth-oauthlib<2,>=0.5->tensorboard<2.16,>=2.15->tensorflow-macos==2.15.0->tensorflow) (3.2.2)\n"
     ]
    }
   ],
   "source": [
    "#installation for google colab compilations\n",
    "!pip install tensorflow"
   ]
  },
  {
   "cell_type": "code",
   "execution_count": 141,
   "metadata": {
    "scrolled": true
   },
   "outputs": [
    {
     "name": "stdout",
     "output_type": "stream",
     "text": [
      "Requirement already satisfied: tensorflow-macos in /Library/Frameworks/Python.framework/Versions/3.10/lib/python3.10/site-packages (2.15.0)\n",
      "Requirement already satisfied: absl-py>=1.0.0 in /Library/Frameworks/Python.framework/Versions/3.10/lib/python3.10/site-packages (from tensorflow-macos) (2.0.0)\n",
      "Requirement already satisfied: astunparse>=1.6.0 in /Library/Frameworks/Python.framework/Versions/3.10/lib/python3.10/site-packages (from tensorflow-macos) (1.6.3)\n",
      "Requirement already satisfied: flatbuffers>=23.5.26 in /Library/Frameworks/Python.framework/Versions/3.10/lib/python3.10/site-packages (from tensorflow-macos) (23.5.26)\n",
      "Requirement already satisfied: gast!=0.5.0,!=0.5.1,!=0.5.2,>=0.2.1 in /Library/Frameworks/Python.framework/Versions/3.10/lib/python3.10/site-packages (from tensorflow-macos) (0.5.4)\n",
      "Requirement already satisfied: google-pasta>=0.1.1 in /Library/Frameworks/Python.framework/Versions/3.10/lib/python3.10/site-packages (from tensorflow-macos) (0.2.0)\n",
      "Requirement already satisfied: h5py>=2.9.0 in /Library/Frameworks/Python.framework/Versions/3.10/lib/python3.10/site-packages (from tensorflow-macos) (3.10.0)\n",
      "Requirement already satisfied: libclang>=13.0.0 in /Library/Frameworks/Python.framework/Versions/3.10/lib/python3.10/site-packages (from tensorflow-macos) (16.0.6)\n",
      "Requirement already satisfied: ml-dtypes~=0.2.0 in /Library/Frameworks/Python.framework/Versions/3.10/lib/python3.10/site-packages (from tensorflow-macos) (0.2.0)\n",
      "Requirement already satisfied: numpy<2.0.0,>=1.23.5 in /Library/Frameworks/Python.framework/Versions/3.10/lib/python3.10/site-packages (from tensorflow-macos) (1.26.2)\n",
      "Requirement already satisfied: opt-einsum>=2.3.2 in /Library/Frameworks/Python.framework/Versions/3.10/lib/python3.10/site-packages (from tensorflow-macos) (3.3.0)\n",
      "Requirement already satisfied: packaging in /Library/Frameworks/Python.framework/Versions/3.10/lib/python3.10/site-packages (from tensorflow-macos) (23.0)\n",
      "Requirement already satisfied: protobuf!=4.21.0,!=4.21.1,!=4.21.2,!=4.21.3,!=4.21.4,!=4.21.5,<5.0.0dev,>=3.20.3 in /Library/Frameworks/Python.framework/Versions/3.10/lib/python3.10/site-packages (from tensorflow-macos) (4.23.4)\n",
      "Requirement already satisfied: setuptools in /Library/Frameworks/Python.framework/Versions/3.10/lib/python3.10/site-packages (from tensorflow-macos) (63.2.0)\n",
      "Requirement already satisfied: six>=1.12.0 in /Library/Frameworks/Python.framework/Versions/3.10/lib/python3.10/site-packages (from tensorflow-macos) (1.16.0)\n",
      "Requirement already satisfied: termcolor>=1.1.0 in /Library/Frameworks/Python.framework/Versions/3.10/lib/python3.10/site-packages (from tensorflow-macos) (2.3.0)\n",
      "Requirement already satisfied: typing-extensions>=3.6.6 in /Library/Frameworks/Python.framework/Versions/3.10/lib/python3.10/site-packages (from tensorflow-macos) (4.5.0)\n",
      "Requirement already satisfied: wrapt<1.15,>=1.11.0 in /Library/Frameworks/Python.framework/Versions/3.10/lib/python3.10/site-packages (from tensorflow-macos) (1.14.1)\n",
      "Requirement already satisfied: tensorflow-io-gcs-filesystem>=0.23.1 in /Library/Frameworks/Python.framework/Versions/3.10/lib/python3.10/site-packages (from tensorflow-macos) (0.34.0)\n",
      "Requirement already satisfied: grpcio<2.0,>=1.24.3 in /Library/Frameworks/Python.framework/Versions/3.10/lib/python3.10/site-packages (from tensorflow-macos) (1.59.3)\n",
      "Requirement already satisfied: tensorboard<2.16,>=2.15 in /Library/Frameworks/Python.framework/Versions/3.10/lib/python3.10/site-packages (from tensorflow-macos) (2.15.1)\n",
      "Requirement already satisfied: tensorflow-estimator<2.16,>=2.15.0 in /Library/Frameworks/Python.framework/Versions/3.10/lib/python3.10/site-packages (from tensorflow-macos) (2.15.0)\n",
      "Requirement already satisfied: keras<2.16,>=2.15.0 in /Library/Frameworks/Python.framework/Versions/3.10/lib/python3.10/site-packages (from tensorflow-macos) (2.15.0)\n",
      "Requirement already satisfied: wheel<1.0,>=0.23.0 in /Library/Frameworks/Python.framework/Versions/3.10/lib/python3.10/site-packages (from astunparse>=1.6.0->tensorflow-macos) (0.42.0)\n",
      "Requirement already satisfied: google-auth<3,>=1.6.3 in /Library/Frameworks/Python.framework/Versions/3.10/lib/python3.10/site-packages (from tensorboard<2.16,>=2.15->tensorflow-macos) (2.23.4)\n",
      "Requirement already satisfied: google-auth-oauthlib<2,>=0.5 in /Library/Frameworks/Python.framework/Versions/3.10/lib/python3.10/site-packages (from tensorboard<2.16,>=2.15->tensorflow-macos) (1.1.0)\n",
      "Requirement already satisfied: markdown>=2.6.8 in /Library/Frameworks/Python.framework/Versions/3.10/lib/python3.10/site-packages (from tensorboard<2.16,>=2.15->tensorflow-macos) (3.5.1)\n",
      "Requirement already satisfied: requests<3,>=2.21.0 in /Library/Frameworks/Python.framework/Versions/3.10/lib/python3.10/site-packages (from tensorboard<2.16,>=2.15->tensorflow-macos) (2.28.2)\n",
      "Requirement already satisfied: tensorboard-data-server<0.8.0,>=0.7.0 in /Library/Frameworks/Python.framework/Versions/3.10/lib/python3.10/site-packages (from tensorboard<2.16,>=2.15->tensorflow-macos) (0.7.2)\n",
      "Requirement already satisfied: werkzeug>=1.0.1 in /Library/Frameworks/Python.framework/Versions/3.10/lib/python3.10/site-packages (from tensorboard<2.16,>=2.15->tensorflow-macos) (3.0.1)\n",
      "Requirement already satisfied: cachetools<6.0,>=2.0.0 in /Library/Frameworks/Python.framework/Versions/3.10/lib/python3.10/site-packages (from google-auth<3,>=1.6.3->tensorboard<2.16,>=2.15->tensorflow-macos) (5.3.2)\n",
      "Requirement already satisfied: pyasn1-modules>=0.2.1 in /Library/Frameworks/Python.framework/Versions/3.10/lib/python3.10/site-packages (from google-auth<3,>=1.6.3->tensorboard<2.16,>=2.15->tensorflow-macos) (0.3.0)\n",
      "Requirement already satisfied: rsa<5,>=3.1.4 in /Library/Frameworks/Python.framework/Versions/3.10/lib/python3.10/site-packages (from google-auth<3,>=1.6.3->tensorboard<2.16,>=2.15->tensorflow-macos) (4.9)\n",
      "Requirement already satisfied: requests-oauthlib>=0.7.0 in /Library/Frameworks/Python.framework/Versions/3.10/lib/python3.10/site-packages (from google-auth-oauthlib<2,>=0.5->tensorboard<2.16,>=2.15->tensorflow-macos) (1.3.1)\n",
      "Requirement already satisfied: charset-normalizer<4,>=2 in /Library/Frameworks/Python.framework/Versions/3.10/lib/python3.10/site-packages (from requests<3,>=2.21.0->tensorboard<2.16,>=2.15->tensorflow-macos) (3.1.0)\n",
      "Requirement already satisfied: idna<4,>=2.5 in /Library/Frameworks/Python.framework/Versions/3.10/lib/python3.10/site-packages (from requests<3,>=2.21.0->tensorboard<2.16,>=2.15->tensorflow-macos) (3.4)\n",
      "Requirement already satisfied: urllib3<1.27,>=1.21.1 in /Library/Frameworks/Python.framework/Versions/3.10/lib/python3.10/site-packages (from requests<3,>=2.21.0->tensorboard<2.16,>=2.15->tensorflow-macos) (1.26.14)\n",
      "Requirement already satisfied: certifi>=2017.4.17 in /Library/Frameworks/Python.framework/Versions/3.10/lib/python3.10/site-packages (from requests<3,>=2.21.0->tensorboard<2.16,>=2.15->tensorflow-macos) (2022.12.7)\n",
      "Requirement already satisfied: MarkupSafe>=2.1.1 in /Library/Frameworks/Python.framework/Versions/3.10/lib/python3.10/site-packages (from werkzeug>=1.0.1->tensorboard<2.16,>=2.15->tensorflow-macos) (2.1.2)\n",
      "Requirement already satisfied: pyasn1<0.6.0,>=0.4.6 in /Library/Frameworks/Python.framework/Versions/3.10/lib/python3.10/site-packages (from pyasn1-modules>=0.2.1->google-auth<3,>=1.6.3->tensorboard<2.16,>=2.15->tensorflow-macos) (0.5.1)\n",
      "Requirement already satisfied: oauthlib>=3.0.0 in /Library/Frameworks/Python.framework/Versions/3.10/lib/python3.10/site-packages (from requests-oauthlib>=0.7.0->google-auth-oauthlib<2,>=0.5->tensorboard<2.16,>=2.15->tensorflow-macos) (3.2.2)\n",
      "Requirement already satisfied: tensorflow-metal in /Library/Frameworks/Python.framework/Versions/3.10/lib/python3.10/site-packages (1.1.0)\n",
      "Requirement already satisfied: wheel~=0.35 in /Library/Frameworks/Python.framework/Versions/3.10/lib/python3.10/site-packages (from tensorflow-metal) (0.42.0)\n",
      "Requirement already satisfied: six>=1.15.0 in /Library/Frameworks/Python.framework/Versions/3.10/lib/python3.10/site-packages (from tensorflow-metal) (1.16.0)\n",
      "Requirement already satisfied: matplotlib in /Library/Frameworks/Python.framework/Versions/3.10/lib/python3.10/site-packages (3.8.2)\n",
      "Requirement already satisfied: contourpy>=1.0.1 in /Library/Frameworks/Python.framework/Versions/3.10/lib/python3.10/site-packages (from matplotlib) (1.2.0)\n",
      "Requirement already satisfied: cycler>=0.10 in /Library/Frameworks/Python.framework/Versions/3.10/lib/python3.10/site-packages (from matplotlib) (0.12.1)\n",
      "Requirement already satisfied: fonttools>=4.22.0 in /Library/Frameworks/Python.framework/Versions/3.10/lib/python3.10/site-packages (from matplotlib) (4.46.0)\n",
      "Requirement already satisfied: kiwisolver>=1.3.1 in /Library/Frameworks/Python.framework/Versions/3.10/lib/python3.10/site-packages (from matplotlib) (1.4.5)\n",
      "Requirement already satisfied: numpy<2,>=1.21 in /Library/Frameworks/Python.framework/Versions/3.10/lib/python3.10/site-packages (from matplotlib) (1.26.2)\n",
      "Requirement already satisfied: packaging>=20.0 in /Library/Frameworks/Python.framework/Versions/3.10/lib/python3.10/site-packages (from matplotlib) (23.0)\n",
      "Requirement already satisfied: pillow>=8 in /Library/Frameworks/Python.framework/Versions/3.10/lib/python3.10/site-packages (from matplotlib) (10.1.0)\n",
      "Requirement already satisfied: pyparsing>=2.3.1 in /Users/ishan/Library/Python/3.10/lib/python/site-packages (from matplotlib) (3.0.9)\n",
      "Requirement already satisfied: python-dateutil>=2.7 in /Library/Frameworks/Python.framework/Versions/3.10/lib/python3.10/site-packages (from matplotlib) (2.8.2)\n",
      "Requirement already satisfied: six>=1.5 in /Library/Frameworks/Python.framework/Versions/3.10/lib/python3.10/site-packages (from python-dateutil>=2.7->matplotlib) (1.16.0)\n",
      "Requirement already satisfied: pandas in /Library/Frameworks/Python.framework/Versions/3.10/lib/python3.10/site-packages (2.1.3)\n",
      "Requirement already satisfied: numpy<2,>=1.22.4 in /Library/Frameworks/Python.framework/Versions/3.10/lib/python3.10/site-packages (from pandas) (1.26.2)\n",
      "Requirement already satisfied: python-dateutil>=2.8.2 in /Library/Frameworks/Python.framework/Versions/3.10/lib/python3.10/site-packages (from pandas) (2.8.2)\n",
      "Requirement already satisfied: pytz>=2020.1 in /Library/Frameworks/Python.framework/Versions/3.10/lib/python3.10/site-packages (from pandas) (2023.3.post1)\n",
      "Requirement already satisfied: tzdata>=2022.1 in /Library/Frameworks/Python.framework/Versions/3.10/lib/python3.10/site-packages (from pandas) (2023.3)\n",
      "Requirement already satisfied: six>=1.5 in /Library/Frameworks/Python.framework/Versions/3.10/lib/python3.10/site-packages (from python-dateutil>=2.8.2->pandas) (1.16.0)\n"
     ]
    }
   ],
   "source": [
    "#for local MAC\n",
    "!pip install tensorflow-macos\n",
    "!pip install tensorflow-metal\n",
    "!pip install matplotlib\n",
    "!pip install pandas"
   ]
  },
  {
   "cell_type": "markdown",
   "metadata": {},
   "source": [
    "### Declaring Paths"
   ]
  },
  {
   "cell_type": "code",
   "execution_count": 142,
   "metadata": {
    "scrolled": true
   },
   "outputs": [
    {
     "name": "stdout",
     "output_type": "stream",
     "text": [
      "/Users/ishan/Downloads/ML_CyberSec_Lab4\n"
     ]
    }
   ],
   "source": [
    "!pwd"
   ]
  },
  {
   "cell_type": "code",
   "execution_count": 143,
   "metadata": {
    "id": "sENxtbFRrGFk",
    "scrolled": true
   },
   "outputs": [],
   "source": [
    "#paths for local compilation\n",
    "clean_validation_path = '/Users/ishan/Downloads/ML_CyberSec_Lab4/data/cl/valid.h5'\n",
    "bad_validation_path = '/Users/ishan/Downloads/ML_CyberSec_Lab4/data/bd/bd_valid.h5'\n",
    "bad_model_path ='/Users/ishan/Downloads/ML_CyberSec_Lab4/models/bd_net.h5'\n",
    "evaulation_script_path = '/Users/ishan/Downloads/ML_CyberSec_Lab4/eval.py'\n",
    "clean_test_path = '/Users/ishan/Downloads/ML_CyberSec_Lab4/data/cl/test.h5'\n",
    "bad_test_path = '/Users/ishan/Downloads/ML_CyberSec_Lab4/data/bd/bd_test.h5'"
   ]
  },
  {
   "cell_type": "code",
   "execution_count": 144,
   "metadata": {
    "id": "jhczz4-6rOmy",
    "scrolled": true
   },
   "outputs": [],
   "source": [
    "# #paths for google colab compilation\n",
    "# clean_validation_path= '/content/drive/MyDrive/ML_CyberSec_Lab4/data/cl/valid.h5'\n",
    "# bad_validation_path = '/content/drive/MyDrive/ML_CyberSec_Lab4/data/bd/bd_valid.h5'\n",
    "# bad_model_path ='/content/drive/MyDrive/ML_CyberSec_Lab4/models/bd_net.h5'\n",
    "# evaulation_script_path = '/content/drive/MyDrive/ML_CyberSec_Lab4/eval.py'\n",
    "# clean_test_path = '/content/drive/MyDrive/ML_CyberSec_Lab4/data/cl/test.h5'\n",
    "# bad_test_path = '/content/drive/MyDrive/ML_CyberSec_Lab4/data/bd/bd_test.h5'"
   ]
  },
  {
   "cell_type": "markdown",
   "metadata": {},
   "source": [
    "### Loading Data and Badnet Model"
   ]
  },
  {
   "cell_type": "code",
   "execution_count": 145,
   "metadata": {
    "id": "zhiRH8BW3so2",
    "scrolled": true
   },
   "outputs": [],
   "source": [
    "import h5py\n",
    "import numpy as np\n",
    "import tensorflow as tf\n",
    "\n",
    "\n",
    "def load_data(filepath):\n",
    "    data = h5py.File(filepath, 'r')\n",
    "    x_data = np.array(data['data'])\n",
    "    y_data = np.array(data['label'])\n",
    "    x_data = x_data.transpose((0,2,3,1))  # Adjusting the shape to match TensorFlow's requirements\n",
    "    return x_data, y_data\n",
    "\n",
    "# Load the datasets\n",
    "x_clean_valid, y_clean_valid = load_data(clean_validation_path)\n",
    "x_bd_valid, y_bd_valid = load_data(bad_validation_path)\n"
   ]
  },
  {
   "cell_type": "code",
   "execution_count": 146,
   "metadata": {
    "id": "QGhYwMze7Osl",
    "scrolled": true
   },
   "outputs": [],
   "source": [
    "from keras.models import load_model\n",
    "\n",
    "badnet = load_model(bad_model_path)\n"
   ]
  },
  {
   "cell_type": "code",
   "execution_count": 147,
   "metadata": {
    "colab": {
     "base_uri": "https://localhost:8080/"
    },
    "id": "oFU2p4svkASp",
    "outputId": "e640ec6f-afe5-4ce8-b521-de12248bba54",
    "scrolled": true
   },
   "outputs": [
    {
     "name": "stdout",
     "output_type": "stream",
     "text": [
      "The number of classes (N) is: 1283\n"
     ]
    }
   ],
   "source": [
    "output_layer_shape = badnet.output_shape\n",
    "\n",
    "# The number of classes (N) is the size of the last dimension of the output layer\n",
    "N = output_layer_shape[-1]\n",
    "\n",
    "print(f\"The number of classes (N) is: {N}\")"
   ]
  },
  {
   "cell_type": "code",
   "execution_count": 148,
   "metadata": {
    "scrolled": true
   },
   "outputs": [
    {
     "data": {
      "text/plain": [
       "[PhysicalDevice(name='/physical_device:GPU:0', device_type='GPU')]"
      ]
     },
     "execution_count": 148,
     "metadata": {},
     "output_type": "execute_result"
    }
   ],
   "source": [
    "tf.config.list_physical_devices(\"GPU\")"
   ]
  },
  {
   "cell_type": "markdown",
   "metadata": {},
   "source": [
    "### Evaluating Badnet on test data using provided eval.py script"
   ]
  },
  {
   "cell_type": "code",
   "execution_count": 149,
   "metadata": {
    "colab": {
     "base_uri": "https://localhost:8080/"
    },
    "id": "Howu9i_lQLkW",
    "outputId": "9fd2c694-d46b-4ee5-956c-395adbdc5169",
    "scrolled": true
   },
   "outputs": [
    {
     "name": "stdout",
     "output_type": "stream",
     "text": [
      "/Library/Frameworks/Python.framework/Versions/3.10/lib/python3.10/site-packages/scipy/__init__.py:155: UserWarning: A NumPy version >=1.18.5 and <1.25.0 is required for this version of SciPy (detected version 1.26.2\n",
      "  warnings.warn(f\"A NumPy version >={np_minversion} and <{np_maxversion}\"\n",
      "2023-12-04 23:35:46.387998: I metal_plugin/src/device/metal_device.cc:1154] Metal device set to: Apple M1 Pro\n",
      "2023-12-04 23:35:46.388026: I metal_plugin/src/device/metal_device.cc:296] systemMemory: 16.00 GB\n",
      "2023-12-04 23:35:46.388034: I metal_plugin/src/device/metal_device.cc:313] maxCacheSize: 5.33 GB\n",
      "2023-12-04 23:35:46.388065: I tensorflow/core/common_runtime/pluggable_device/pluggable_device_factory.cc:306] Could not identify NUMA node of platform GPU ID 0, defaulting to 0. Your kernel may not have been built with NUMA support.\n",
      "2023-12-04 23:35:46.388082: I tensorflow/core/common_runtime/pluggable_device/pluggable_device_factory.cc:272] Created TensorFlow device (/job:localhost/replica:0/task:0/device:GPU:0 with 0 MB memory) -> physical PluggableDevice (device: 0, name: METAL, pci bus id: <undefined>)\n",
      "2023-12-04 23:35:48.284195: I tensorflow/core/grappler/optimizers/custom_graph_optimizer_registry.cc:117] Plugin optimizer for device_type GPU is enabled.\n",
      "401/401 [==============================] - 3s 5ms/step\n",
      "Clean Classification accuracy: 98.62042088854248\n",
      "401/401 [==============================] - 2s 4ms/step\n",
      "Attack Success Rate: 100.0\n"
     ]
    }
   ],
   "source": [
    "!python3 eval.py data/cl/test.h5 data/bd/bd_test.h5 models/bd_net.h5\n"
   ]
  },
  {
   "cell_type": "markdown",
   "metadata": {},
   "source": [
    "#### Printing model summary so we can see the final pooling layer on which pruning is to be done"
   ]
  },
  {
   "cell_type": "code",
   "execution_count": 150,
   "metadata": {
    "colab": {
     "base_uri": "https://localhost:8080/"
    },
    "id": "dtlciU-WTuYe",
    "outputId": "511a56c3-c7c6-49a2-b442-da8fd5c79814",
    "scrolled": true
   },
   "outputs": [
    {
     "name": "stdout",
     "output_type": "stream",
     "text": [
      "Model: \"model_1\"\n",
      "__________________________________________________________________________________________________\n",
      " Layer (type)                Output Shape                 Param #   Connected to                  \n",
      "==================================================================================================\n",
      " input (InputLayer)          [(None, 55, 47, 3)]          0         []                            \n",
      "                                                                                                  \n",
      " conv_1 (Conv2D)             (None, 52, 44, 20)           980       ['input[0][0]']               \n",
      "                                                                                                  \n",
      " pool_1 (MaxPooling2D)       (None, 26, 22, 20)           0         ['conv_1[0][0]']              \n",
      "                                                                                                  \n",
      " conv_2 (Conv2D)             (None, 24, 20, 40)           7240      ['pool_1[0][0]']              \n",
      "                                                                                                  \n",
      " pool_2 (MaxPooling2D)       (None, 12, 10, 40)           0         ['conv_2[0][0]']              \n",
      "                                                                                                  \n",
      " conv_3 (Conv2D)             (None, 10, 8, 60)            21660     ['pool_2[0][0]']              \n",
      "                                                                                                  \n",
      " pool_3 (MaxPooling2D)       (None, 5, 4, 60)             0         ['conv_3[0][0]']              \n",
      "                                                                                                  \n",
      " conv_4 (Conv2D)             (None, 4, 3, 80)             19280     ['pool_3[0][0]']              \n",
      "                                                                                                  \n",
      " flatten_1 (Flatten)         (None, 1200)                 0         ['pool_3[0][0]']              \n",
      "                                                                                                  \n",
      " flatten_2 (Flatten)         (None, 960)                  0         ['conv_4[0][0]']              \n",
      "                                                                                                  \n",
      " fc_1 (Dense)                (None, 160)                  192160    ['flatten_1[0][0]']           \n",
      "                                                                                                  \n",
      " fc_2 (Dense)                (None, 160)                  153760    ['flatten_2[0][0]']           \n",
      "                                                                                                  \n",
      " add_1 (Add)                 (None, 160)                  0         ['fc_1[0][0]',                \n",
      "                                                                     'fc_2[0][0]']                \n",
      "                                                                                                  \n",
      " activation_1 (Activation)   (None, 160)                  0         ['add_1[0][0]']               \n",
      "                                                                                                  \n",
      " output (Dense)              (None, 1283)                 206563    ['activation_1[0][0]']        \n",
      "                                                                                                  \n",
      "==================================================================================================\n",
      "Total params: 601643 (2.30 MB)\n",
      "Trainable params: 601643 (2.30 MB)\n",
      "Non-trainable params: 0 (0.00 Byte)\n",
      "__________________________________________________________________________________________________\n",
      "None\n"
     ]
    }
   ],
   "source": [
    "print(badnet.summary())"
   ]
  },
  {
   "cell_type": "markdown",
   "metadata": {},
   "source": [
    "### Pruning Defence Functions"
   ]
  },
  {
   "cell_type": "markdown",
   "metadata": {},
   "source": [
    "This function prune_and_evaluate takes a backdoored neural network model and a validation dataset of clean and backdoored images. It prunes channels from the last pooling layer of the model in decreasing order of average activation values, while monitoring the impact on the model's accuracy with clean data and the attack success rate of the backdoored inputs on the model. Pruning is done until the validation accuracy drops by a specified threshold (X%). The aim is to modify the backdoored network (BadNet) into a \"repaired\" version that can accurately classify clean inputs while identifying backdoored inputs as a separate class. We record the accuracy and attack success rates as channels are pruned and save models that meet the specified accuracy drop thresholds."
   ]
  },
  {
   "cell_type": "code",
   "execution_count": 151,
   "metadata": {},
   "outputs": [],
   "source": [
    "from tqdm import tqdm\n",
    "import keras\n",
    "\n",
    "# Lists to store clean accuracies and attack success rates during pruning\n",
    "clean_accuracies = []\n",
    "attack_success_rates = []\n",
    "\n",
    "# Function to prune the model and evaluate its performance\n",
    "def prune_and_evaluate(model, cl_x_valid, cl_y_valid, bd_x_valid, bd_y_valid, clean_data_acc, thresholds):\n",
    "    # Clone the model to preserve the original\n",
    "    model_copy = keras.models.clone_model(model)\n",
    "    model_copy.set_weights(model.get_weights())\n",
    "\n",
    "    # Get the output of the 'pool_3' layer\n",
    "    layer_output = model_copy.get_layer('pool_3').output\n",
    "    intermediate_model = keras.models.Model(inputs=model_copy.input, outputs=layer_output)\n",
    "    intermediate_prediction = intermediate_model.predict(cl_x_valid)\n",
    "    \n",
    "    # Calculate the average activation values for each channel\n",
    "    temp = np.mean(intermediate_prediction, axis=(0, 1, 2))\n",
    "    seq = np.argsort(temp)\n",
    "    weight_0, bias_0 = model_copy.layers[5].get_weights()\n",
    "\n",
    "    # Initialize variables to track saved models\n",
    "    saved_model = np.zeros(len(thresholds), dtype=bool)\n",
    "    saved_models = []\n",
    "\n",
    "    # Iterate over channels in the ascending order of average activation\n",
    "    for channel_index in tqdm(seq):\n",
    "        weight_0[:, :, :, channel_index] = 0\n",
    "        bias_0[channel_index] = 0\n",
    "        model_copy.layers[5].set_weights([weight_0, bias_0])\n",
    "\n",
    "        # Predict on clean validation data and calculate clean accuracy\n",
    "        cl_label_p = np.argmax(model_copy.predict(cl_x_valid), axis=1)\n",
    "        clean_accuracy = np.mean(np.equal(cl_label_p, cl_y_valid)) * 100\n",
    "        \n",
    "        # Predict on backdoored validation data and calculate attack success rate\n",
    "        bd_label_p = np.argmax(model_copy.predict(bd_x_valid), axis=1)\n",
    "        attack_success_rate = np.mean(np.equal(bd_label_p, bd_y_valid)) * 100\n",
    "\n",
    "        # Store clean accuracy and attack success rate\n",
    "        clean_accuracies.append(clean_accuracy)\n",
    "        attack_success_rates.append(attack_success_rate)\n",
    "\n",
    "        print(f\"\\nThe clean accuracy is: {clean_accuracy}%\")\n",
    "        print(f\"The attack success rate is: {attack_success_rate}%\")\n",
    "        print(f\"The pruned channel index is: {channel_index}\")\n",
    "\n",
    "        # Check if the clean accuracy drop exceeds the specified threshold\n",
    "        for i, threshold in enumerate(thresholds):\n",
    "            if clean_data_acc - clean_accuracy >= threshold * 100 and not saved_model[i]:\n",
    "                model_name = f'pruned_model_X={threshold*100}%.h5'\n",
    "                print(f\"The accuracy drops at least {threshold*100}%, saving the model as {model_name}\")\n",
    "                model_copy.save(model_name)\n",
    "                saved_model[i] = True\n",
    "                saved_models.append(model_name)\n",
    "                break  # Break to avoid saving at lower thresholds once a higher threshold is met\n",
    "\n",
    "        # Clear the Keras session to release resources\n",
    "        keras.backend.clear_session()\n",
    "\n",
    "    return saved_models\n"
   ]
  },
  {
   "cell_type": "markdown",
   "metadata": {},
   "source": [
    "### Evaluating Original Accuracy of Badnet on validation Data"
   ]
  },
  {
   "cell_type": "code",
   "execution_count": 152,
   "metadata": {
    "id": "sGvlAAX4RWHW",
    "scrolled": true
   },
   "outputs": [],
   "source": [
    "def evaluate_model(model, x_test, y_test):\n",
    "    predictions = model.predict(x_test)\n",
    "    accuracy = np.mean(np.argmax(predictions, axis=1) == y_test)\n",
    "    return accuracy\n"
   ]
  },
  {
   "cell_type": "code",
   "execution_count": 153,
   "metadata": {
    "colab": {
     "base_uri": "https://localhost:8080/"
    },
    "id": "z6twPAvdhvB4",
    "outputId": "112e939b-a71a-4c15-c582-a5a38b9010fb",
    "scrolled": true
   },
   "outputs": [
    {
     "name": "stdout",
     "output_type": "stream",
     "text": [
      "361/361 [==============================] - 3s 6ms/step\n",
      "Accuracy:0.9864899974019226\n"
     ]
    }
   ],
   "source": [
    "#Calculating orinal accuracy on badnet\n",
    "clean_data_accuracy = evaluate_model(badnet, x_clean_valid, y_clean_valid)\n",
    "print('Accuracy:{}'.format(clean_data_accuracy))"
   ]
  },
  {
   "cell_type": "markdown",
   "metadata": {},
   "source": [
    "### Performing channel pruning on badnet model using validation data to create pruned models"
   ]
  },
  {
   "cell_type": "code",
   "execution_count": 154,
   "metadata": {
    "id": "JbGXaF99ioXA",
    "scrolled": true
   },
   "outputs": [],
   "source": [
    "x_clean_test, y_clean_test = load_data(clean_test_path)\n",
    "x_poisoned_test, y_poisoned_test = load_data(bad_test_path)"
   ]
  },
  {
   "cell_type": "code",
   "execution_count": 155,
   "metadata": {
    "colab": {
     "base_uri": "https://localhost:8080/"
    },
    "id": "Z_69kJKOqaWQ",
    "outputId": "03c5a4c0-6038-4960-80b5-8e3a78fab641"
   },
   "outputs": [
    {
     "name": "stdout",
     "output_type": "stream",
     "text": [
      "361/361 [==============================] - 2s 4ms/step\n"
     ]
    },
    {
     "name": "stderr",
     "output_type": "stream",
     "text": [
      "  0%|          | 0/60 [00:00<?, ?it/s]"
     ]
    },
    {
     "name": "stdout",
     "output_type": "stream",
     "text": [
      "361/361 [==============================] - 2s 5ms/step\n",
      "361/361 [==============================] - 1s 4ms/step\n",
      "\n",
      "The clean accuracy is: 98.64899974019225%\n",
      "The attack success rate is: 100.0%\n",
      "The pruned channel index is: 0\n"
     ]
    },
    {
     "name": "stderr",
     "output_type": "stream",
     "text": [
      "  2%|▏         | 1/60 [00:05<05:34,  5.67s/it]"
     ]
    },
    {
     "name": "stdout",
     "output_type": "stream",
     "text": [
      "361/361 [==============================] - 2s 5ms/step\n",
      "361/361 [==============================] - 1s 4ms/step\n"
     ]
    },
    {
     "name": "stderr",
     "output_type": "stream",
     "text": [
      "  3%|▎         | 2/60 [00:11<05:23,  5.57s/it]"
     ]
    },
    {
     "name": "stdout",
     "output_type": "stream",
     "text": [
      "\n",
      "The clean accuracy is: 98.64899974019225%\n",
      "The attack success rate is: 100.0%\n",
      "The pruned channel index is: 26\n",
      "361/361 [==============================] - 2s 5ms/step\n",
      "361/361 [==============================] - 1s 4ms/step\n"
     ]
    },
    {
     "name": "stderr",
     "output_type": "stream",
     "text": [
      "  5%|▌         | 3/60 [00:16<05:00,  5.28s/it]"
     ]
    },
    {
     "name": "stdout",
     "output_type": "stream",
     "text": [
      "\n",
      "The clean accuracy is: 98.64899974019225%\n",
      "The attack success rate is: 100.0%\n",
      "The pruned channel index is: 27\n",
      "361/361 [==============================] - 3s 5ms/step\n",
      "361/361 [==============================] - 1s 4ms/step\n"
     ]
    },
    {
     "name": "stderr",
     "output_type": "stream",
     "text": [
      "  7%|▋         | 4/60 [00:21<05:00,  5.37s/it]"
     ]
    },
    {
     "name": "stdout",
     "output_type": "stream",
     "text": [
      "\n",
      "The clean accuracy is: 98.64899974019225%\n",
      "The attack success rate is: 100.0%\n",
      "The pruned channel index is: 30\n",
      "361/361 [==============================] - 3s 5ms/step\n",
      "361/361 [==============================] - 1s 4ms/step\n"
     ]
    },
    {
     "name": "stderr",
     "output_type": "stream",
     "text": [
      "  8%|▊         | 5/60 [00:27<04:57,  5.40s/it]"
     ]
    },
    {
     "name": "stdout",
     "output_type": "stream",
     "text": [
      "\n",
      "The clean accuracy is: 98.64899974019225%\n",
      "The attack success rate is: 100.0%\n",
      "The pruned channel index is: 31\n",
      "361/361 [==============================] - 2s 5ms/step\n",
      "361/361 [==============================] - 1s 4ms/step\n",
      "\n",
      "The clean accuracy is: 98.64899974019225%\n",
      "The attack success rate is: 100.0%\n",
      "The pruned channel index is: 33\n"
     ]
    },
    {
     "name": "stderr",
     "output_type": "stream",
     "text": [
      " 10%|█         | 6/60 [00:31<04:30,  5.02s/it]"
     ]
    },
    {
     "name": "stdout",
     "output_type": "stream",
     "text": [
      "361/361 [==============================] - 2s 5ms/step\n",
      "361/361 [==============================] - 1s 4ms/step\n"
     ]
    },
    {
     "name": "stderr",
     "output_type": "stream",
     "text": [
      " 12%|█▏        | 7/60 [00:37<04:37,  5.23s/it]"
     ]
    },
    {
     "name": "stdout",
     "output_type": "stream",
     "text": [
      "\n",
      "The clean accuracy is: 98.64899974019225%\n",
      "The attack success rate is: 100.0%\n",
      "The pruned channel index is: 34\n",
      "361/361 [==============================] - 3s 5ms/step\n",
      "361/361 [==============================] - 1s 4ms/step\n"
     ]
    },
    {
     "name": "stderr",
     "output_type": "stream",
     "text": [
      " 13%|█▎        | 8/60 [00:42<04:37,  5.33s/it]"
     ]
    },
    {
     "name": "stdout",
     "output_type": "stream",
     "text": [
      "\n",
      "The clean accuracy is: 98.64899974019225%\n",
      "The attack success rate is: 100.0%\n",
      "The pruned channel index is: 36\n",
      "361/361 [==============================] - 2s 5ms/step\n",
      "361/361 [==============================] - 1s 4ms/step\n"
     ]
    },
    {
     "name": "stderr",
     "output_type": "stream",
     "text": [
      " 15%|█▌        | 9/60 [00:47<04:20,  5.11s/it]"
     ]
    },
    {
     "name": "stdout",
     "output_type": "stream",
     "text": [
      "\n",
      "The clean accuracy is: 98.64899974019225%\n",
      "The attack success rate is: 100.0%\n",
      "The pruned channel index is: 37\n",
      "361/361 [==============================] - 2s 5ms/step\n",
      "361/361 [==============================] - 1s 4ms/step\n"
     ]
    },
    {
     "name": "stderr",
     "output_type": "stream",
     "text": [
      " 17%|█▋        | 10/60 [00:52<04:22,  5.25s/it]"
     ]
    },
    {
     "name": "stdout",
     "output_type": "stream",
     "text": [
      "\n",
      "The clean accuracy is: 98.64899974019225%\n",
      "The attack success rate is: 100.0%\n",
      "The pruned channel index is: 38\n",
      "361/361 [==============================] - 3s 5ms/step\n",
      "361/361 [==============================] - 1s 3ms/step\n"
     ]
    },
    {
     "name": "stderr",
     "output_type": "stream",
     "text": [
      " 18%|█▊        | 11/60 [00:58<04:18,  5.28s/it]"
     ]
    },
    {
     "name": "stdout",
     "output_type": "stream",
     "text": [
      "\n",
      "The clean accuracy is: 98.64899974019225%\n",
      "The attack success rate is: 100.0%\n",
      "The pruned channel index is: 25\n",
      "361/361 [==============================] - 2s 5ms/step\n",
      "361/361 [==============================] - 1s 4ms/step\n"
     ]
    },
    {
     "name": "stderr",
     "output_type": "stream",
     "text": [
      " 20%|██        | 12/60 [01:02<04:02,  5.06s/it]"
     ]
    },
    {
     "name": "stdout",
     "output_type": "stream",
     "text": [
      "\n",
      "The clean accuracy is: 98.64899974019225%\n",
      "The attack success rate is: 100.0%\n",
      "The pruned channel index is: 39\n",
      "361/361 [==============================] - 2s 5ms/step\n",
      "361/361 [==============================] - 1s 4ms/step\n",
      "\n",
      "The clean accuracy is: 98.64899974019225%\n",
      "The attack success rate is: 100.0%\n",
      "The pruned channel index is: 41\n"
     ]
    },
    {
     "name": "stderr",
     "output_type": "stream",
     "text": [
      " 22%|██▏       | 13/60 [01:08<04:03,  5.19s/it]"
     ]
    },
    {
     "name": "stdout",
     "output_type": "stream",
     "text": [
      "361/361 [==============================] - 2s 5ms/step\n",
      "361/361 [==============================] - 1s 4ms/step\n"
     ]
    },
    {
     "name": "stderr",
     "output_type": "stream",
     "text": [
      " 23%|██▎       | 14/60 [01:13<04:00,  5.23s/it]"
     ]
    },
    {
     "name": "stdout",
     "output_type": "stream",
     "text": [
      "\n",
      "The clean accuracy is: 98.64899974019225%\n",
      "The attack success rate is: 100.0%\n",
      "The pruned channel index is: 44\n",
      "361/361 [==============================] - 2s 5ms/step\n",
      "361/361 [==============================] - 1s 3ms/step\n"
     ]
    },
    {
     "name": "stderr",
     "output_type": "stream",
     "text": [
      " 25%|██▌       | 15/60 [01:17<03:45,  5.00s/it]"
     ]
    },
    {
     "name": "stdout",
     "output_type": "stream",
     "text": [
      "\n",
      "The clean accuracy is: 98.64899974019225%\n",
      "The attack success rate is: 100.0%\n",
      "The pruned channel index is: 45\n",
      "361/361 [==============================] - 2s 5ms/step\n",
      "361/361 [==============================] - 1s 4ms/step\n"
     ]
    },
    {
     "name": "stderr",
     "output_type": "stream",
     "text": [
      " 27%|██▋       | 16/60 [01:23<03:45,  5.12s/it]"
     ]
    },
    {
     "name": "stdout",
     "output_type": "stream",
     "text": [
      "\n",
      "The clean accuracy is: 98.64899974019225%\n",
      "The attack success rate is: 100.0%\n",
      "The pruned channel index is: 47\n",
      "361/361 [==============================] - 3s 5ms/step\n",
      "361/361 [==============================] - 1s 4ms/step\n",
      "\n",
      "The clean accuracy is: 98.64899974019225%\n",
      "The attack success rate is: 100.0%\n",
      "The pruned channel index is: 48\n"
     ]
    },
    {
     "name": "stderr",
     "output_type": "stream",
     "text": [
      " 28%|██▊       | 17/60 [01:28<03:43,  5.19s/it]"
     ]
    },
    {
     "name": "stdout",
     "output_type": "stream",
     "text": [
      "361/361 [==============================] - 2s 5ms/step\n",
      "361/361 [==============================] - 1s 4ms/step\n",
      "\n",
      "The clean accuracy is: 98.64899974019225%\n",
      "The attack success rate is: 100.0%\n",
      "The pruned channel index is: 49\n"
     ]
    },
    {
     "name": "stderr",
     "output_type": "stream",
     "text": [
      " 30%|███       | 18/60 [01:33<03:29,  4.98s/it]"
     ]
    },
    {
     "name": "stdout",
     "output_type": "stream",
     "text": [
      "361/361 [==============================] - 2s 5ms/step\n",
      "361/361 [==============================] - 1s 4ms/step\n",
      "\n",
      "The clean accuracy is: 98.64899974019225%\n",
      "The attack success rate is: 100.0%\n",
      "The pruned channel index is: 50\n"
     ]
    },
    {
     "name": "stderr",
     "output_type": "stream",
     "text": [
      " 32%|███▏      | 19/60 [01:38<03:31,  5.17s/it]"
     ]
    },
    {
     "name": "stdout",
     "output_type": "stream",
     "text": [
      "361/361 [==============================] - 3s 5ms/step\n",
      "361/361 [==============================] - 1s 4ms/step\n",
      "\n",
      "The clean accuracy is: 98.64899974019225%\n",
      "The attack success rate is: 100.0%\n",
      "The pruned channel index is: 53\n"
     ]
    },
    {
     "name": "stderr",
     "output_type": "stream",
     "text": [
      " 33%|███▎      | 20/60 [01:44<03:31,  5.28s/it]"
     ]
    },
    {
     "name": "stdout",
     "output_type": "stream",
     "text": [
      "361/361 [==============================] - 2s 5ms/step\n",
      "361/361 [==============================] - 1s 4ms/step\n",
      "\n",
      "The clean accuracy is: 98.64899974019225%\n",
      "The attack success rate is: 100.0%\n",
      "The pruned channel index is: 55\n"
     ]
    },
    {
     "name": "stderr",
     "output_type": "stream",
     "text": [
      " 35%|███▌      | 21/60 [01:48<03:17,  5.07s/it]"
     ]
    },
    {
     "name": "stdout",
     "output_type": "stream",
     "text": [
      "361/361 [==============================] - 2s 5ms/step\n",
      "361/361 [==============================] - 1s 4ms/step\n"
     ]
    },
    {
     "name": "stderr",
     "output_type": "stream",
     "text": [
      " 37%|███▋      | 22/60 [01:54<03:16,  5.16s/it]"
     ]
    },
    {
     "name": "stdout",
     "output_type": "stream",
     "text": [
      "\n",
      "The clean accuracy is: 98.64899974019225%\n",
      "The attack success rate is: 100.0%\n",
      "The pruned channel index is: 40\n",
      "361/361 [==============================] - 2s 5ms/step\n",
      "361/361 [==============================] - 1s 4ms/step\n",
      "\n",
      "The clean accuracy is: 98.64899974019225%\n",
      "The attack success rate is: 100.0%\n",
      "The pruned channel index is: 24\n"
     ]
    },
    {
     "name": "stderr",
     "output_type": "stream",
     "text": [
      " 38%|███▊      | 23/60 [01:59<03:12,  5.19s/it]"
     ]
    },
    {
     "name": "stdout",
     "output_type": "stream",
     "text": [
      "361/361 [==============================] - 2s 5ms/step\n",
      "361/361 [==============================] - 1s 4ms/step\n"
     ]
    },
    {
     "name": "stderr",
     "output_type": "stream",
     "text": [
      " 40%|████      | 24/60 [02:04<02:59,  4.98s/it]"
     ]
    },
    {
     "name": "stdout",
     "output_type": "stream",
     "text": [
      "\n",
      "The clean accuracy is: 98.64899974019225%\n",
      "The attack success rate is: 100.0%\n",
      "The pruned channel index is: 59\n",
      "361/361 [==============================] - 2s 5ms/step\n",
      "361/361 [==============================] - 1s 4ms/step\n"
     ]
    },
    {
     "name": "stderr",
     "output_type": "stream",
     "text": [
      " 42%|████▏     | 25/60 [02:09<02:58,  5.09s/it]"
     ]
    },
    {
     "name": "stdout",
     "output_type": "stream",
     "text": [
      "\n",
      "The clean accuracy is: 98.64899974019225%\n",
      "The attack success rate is: 100.0%\n",
      "The pruned channel index is: 9\n",
      "361/361 [==============================] - 3s 5ms/step\n",
      "361/361 [==============================] - 1s 3ms/step\n"
     ]
    },
    {
     "name": "stderr",
     "output_type": "stream",
     "text": [
      " 43%|████▎     | 26/60 [02:14<02:56,  5.19s/it]"
     ]
    },
    {
     "name": "stdout",
     "output_type": "stream",
     "text": [
      "\n",
      "The clean accuracy is: 98.64899974019225%\n",
      "The attack success rate is: 100.0%\n",
      "The pruned channel index is: 2\n",
      "361/361 [==============================] - 2s 5ms/step\n",
      "361/361 [==============================] - 1s 4ms/step\n",
      "\n",
      "The clean accuracy is: 98.64899974019225%\n",
      "The attack success rate is: 100.0%\n",
      "The pruned channel index is: 12\n"
     ]
    },
    {
     "name": "stderr",
     "output_type": "stream",
     "text": [
      " 45%|████▌     | 27/60 [02:19<02:44,  4.97s/it]"
     ]
    },
    {
     "name": "stdout",
     "output_type": "stream",
     "text": [
      "361/361 [==============================] - 2s 5ms/step\n",
      "361/361 [==============================] - 1s 4ms/step\n"
     ]
    },
    {
     "name": "stderr",
     "output_type": "stream",
     "text": [
      " 47%|████▋     | 28/60 [02:24<02:44,  5.15s/it]"
     ]
    },
    {
     "name": "stdout",
     "output_type": "stream",
     "text": [
      "\n",
      "The clean accuracy is: 98.64899974019225%\n",
      "The attack success rate is: 100.0%\n",
      "The pruned channel index is: 13\n",
      "361/361 [==============================] - 2s 5ms/step\n",
      "361/361 [==============================] - 1s 4ms/step\n"
     ]
    },
    {
     "name": "stderr",
     "output_type": "stream",
     "text": [
      " 48%|████▊     | 29/60 [02:30<02:39,  5.16s/it]"
     ]
    },
    {
     "name": "stdout",
     "output_type": "stream",
     "text": [
      "\n",
      "The clean accuracy is: 98.64899974019225%\n",
      "The attack success rate is: 100.0%\n",
      "The pruned channel index is: 17\n",
      "361/361 [==============================] - 2s 5ms/step\n",
      "361/361 [==============================] - 1s 4ms/step\n",
      "\n",
      "The clean accuracy is: 98.64899974019225%\n",
      "The attack success rate is: 100.0%\n",
      "The pruned channel index is: 14\n"
     ]
    },
    {
     "name": "stderr",
     "output_type": "stream",
     "text": [
      " 50%|█████     | 30/60 [02:34<02:28,  4.95s/it]"
     ]
    },
    {
     "name": "stdout",
     "output_type": "stream",
     "text": [
      "361/361 [==============================] - 2s 5ms/step\n",
      "361/361 [==============================] - 1s 4ms/step\n",
      "\n",
      "The clean accuracy is: 98.64899974019225%\n",
      "The attack success rate is: 100.0%\n",
      "The pruned channel index is: 15\n"
     ]
    },
    {
     "name": "stderr",
     "output_type": "stream",
     "text": [
      " 52%|█████▏    | 31/60 [02:39<02:26,  5.04s/it]"
     ]
    },
    {
     "name": "stdout",
     "output_type": "stream",
     "text": [
      "361/361 [==============================] - 2s 5ms/step\n",
      "361/361 [==============================] - 1s 4ms/step\n"
     ]
    },
    {
     "name": "stderr",
     "output_type": "stream",
     "text": [
      " 53%|█████▎    | 32/60 [02:44<02:22,  5.10s/it]"
     ]
    },
    {
     "name": "stdout",
     "output_type": "stream",
     "text": [
      "\n",
      "The clean accuracy is: 98.64899974019225%\n",
      "The attack success rate is: 100.0%\n",
      "The pruned channel index is: 23\n",
      "361/361 [==============================] - 2s 5ms/step\n",
      "361/361 [==============================] - 1s 4ms/step\n",
      "\n",
      "The clean accuracy is: 98.64899974019225%\n",
      "The attack success rate is: 100.0%\n",
      "The pruned channel index is: 6\n"
     ]
    },
    {
     "name": "stderr",
     "output_type": "stream",
     "text": [
      " 55%|█████▌    | 33/60 [02:49<02:12,  4.92s/it]"
     ]
    },
    {
     "name": "stdout",
     "output_type": "stream",
     "text": [
      "361/361 [==============================] - 2s 5ms/step\n",
      "361/361 [==============================] - 1s 4ms/step\n"
     ]
    },
    {
     "name": "stderr",
     "output_type": "stream",
     "text": [
      " 57%|█████▋    | 34/60 [02:54<02:12,  5.09s/it]"
     ]
    },
    {
     "name": "stdout",
     "output_type": "stream",
     "text": [
      "\n",
      "The clean accuracy is: 98.64033948211657%\n",
      "The attack success rate is: 100.0%\n",
      "The pruned channel index is: 51\n",
      "361/361 [==============================] - 3s 5ms/step\n",
      "361/361 [==============================] - 1s 4ms/step\n"
     ]
    },
    {
     "name": "stderr",
     "output_type": "stream",
     "text": [
      " 58%|█████▊    | 35/60 [03:00<02:10,  5.24s/it]"
     ]
    },
    {
     "name": "stdout",
     "output_type": "stream",
     "text": [
      "\n",
      "The clean accuracy is: 98.64033948211657%\n",
      "The attack success rate is: 100.0%\n",
      "The pruned channel index is: 32\n",
      "361/361 [==============================] - 2s 5ms/step\n",
      "361/361 [==============================] - 1s 4ms/step\n"
     ]
    },
    {
     "name": "stderr",
     "output_type": "stream",
     "text": [
      " 60%|██████    | 36/60 [03:04<01:59,  4.98s/it]"
     ]
    },
    {
     "name": "stdout",
     "output_type": "stream",
     "text": [
      "\n",
      "The clean accuracy is: 98.63167922404088%\n",
      "The attack success rate is: 100.0%\n",
      "The pruned channel index is: 22\n",
      "361/361 [==============================] - 2s 5ms/step\n",
      "361/361 [==============================] - 1s 4ms/step\n"
     ]
    },
    {
     "name": "stderr",
     "output_type": "stream",
     "text": [
      " 62%|██████▏   | 37/60 [03:10<01:58,  5.15s/it]"
     ]
    },
    {
     "name": "stdout",
     "output_type": "stream",
     "text": [
      "\n",
      "The clean accuracy is: 98.65765999826795%\n",
      "The attack success rate is: 100.0%\n",
      "The pruned channel index is: 21\n",
      "361/361 [==============================] - 3s 5ms/step\n",
      "361/361 [==============================] - 1s 4ms/step\n"
     ]
    },
    {
     "name": "stderr",
     "output_type": "stream",
     "text": [
      " 63%|██████▎   | 38/60 [03:15<01:55,  5.26s/it]"
     ]
    },
    {
     "name": "stdout",
     "output_type": "stream",
     "text": [
      "\n",
      "The clean accuracy is: 98.64899974019225%\n",
      "The attack success rate is: 100.0%\n",
      "The pruned channel index is: 20\n",
      "361/361 [==============================] - 2s 5ms/step\n",
      "361/361 [==============================] - 1s 4ms/step\n"
     ]
    },
    {
     "name": "stderr",
     "output_type": "stream",
     "text": [
      " 65%|██████▌   | 39/60 [03:20<01:46,  5.07s/it]"
     ]
    },
    {
     "name": "stdout",
     "output_type": "stream",
     "text": [
      "\n",
      "The clean accuracy is: 98.6056984498138%\n",
      "The attack success rate is: 100.0%\n",
      "The pruned channel index is: 19\n",
      "361/361 [==============================] - 3s 5ms/step\n",
      "361/361 [==============================] - 1s 4ms/step\n"
     ]
    },
    {
     "name": "stderr",
     "output_type": "stream",
     "text": [
      " 67%|██████▋   | 40/60 [03:26<01:45,  5.30s/it]"
     ]
    },
    {
     "name": "stdout",
     "output_type": "stream",
     "text": [
      "\n",
      "The clean accuracy is: 98.57105741751104%\n",
      "The attack success rate is: 100.0%\n",
      "The pruned channel index is: 43\n",
      "361/361 [==============================] - 3s 6ms/step\n",
      "361/361 [==============================] - 1s 4ms/step\n"
     ]
    },
    {
     "name": "stderr",
     "output_type": "stream",
     "text": [
      " 68%|██████▊   | 41/60 [03:32<01:43,  5.45s/it]"
     ]
    },
    {
     "name": "stdout",
     "output_type": "stream",
     "text": [
      "\n",
      "The clean accuracy is: 98.53641638520828%\n",
      "The attack success rate is: 100.0%\n",
      "The pruned channel index is: 58\n",
      "361/361 [==============================] - 2s 5ms/step\n",
      "361/361 [==============================] - 1s 4ms/step\n"
     ]
    },
    {
     "name": "stderr",
     "output_type": "stream",
     "text": [
      " 70%|███████   | 42/60 [03:36<01:33,  5.19s/it]"
     ]
    },
    {
     "name": "stdout",
     "output_type": "stream",
     "text": [
      "\n",
      "The clean accuracy is: 98.19000606218066%\n",
      "The attack success rate is: 100.0%\n",
      "The pruned channel index is: 3\n",
      "361/361 [==============================] - 2s 5ms/step\n",
      "361/361 [==============================] - 1s 4ms/step\n"
     ]
    },
    {
     "name": "stderr",
     "output_type": "stream",
     "text": [
      " 72%|███████▏  | 43/60 [03:42<01:29,  5.27s/it]"
     ]
    },
    {
     "name": "stdout",
     "output_type": "stream",
     "text": [
      "\n",
      "The clean accuracy is: 97.65307006148784%\n",
      "The attack success rate is: 100.0%\n",
      "The pruned channel index is: 42\n",
      "361/361 [==============================] - 3s 5ms/step\n",
      "361/361 [==============================] - 2s 4ms/step\n",
      "\n",
      "The clean accuracy is: 97.50584567420108%\n",
      "The attack success rate is: 100.0%\n",
      "The pruned channel index is: 1\n"
     ]
    },
    {
     "name": "stderr",
     "output_type": "stream",
     "text": [
      " 73%|███████▎  | 44/60 [03:47<01:26,  5.39s/it]"
     ]
    },
    {
     "name": "stdout",
     "output_type": "stream",
     "text": [
      "361/361 [==============================] - 2s 5ms/step\n",
      "361/361 [==============================] - 1s 4ms/step\n",
      "\n",
      "The clean accuracy is: 95.75647354291158%\n",
      "The attack success rate is: 100.0%\n",
      "The pruned channel index is: 29\n",
      "The accuracy drops at least 2.0%, saving the model as pruned_model_X=2.0%.h5\n",
      "WARNING:tensorflow:Compiled the loaded model, but the compiled metrics have yet to be built. `model.compile_metrics` will be empty until you train or evaluate the model.\n"
     ]
    },
    {
     "name": "stderr",
     "output_type": "stream",
     "text": [
      "/Library/Frameworks/Python.framework/Versions/3.10/lib/python3.10/site-packages/keras/src/engine/training.py:3103: UserWarning: You are saving your model as an HDF5 file via `model.save()`. This file format is considered legacy. We recommend using instead the native Keras format, e.g. `model.save('my_model.keras')`.\n",
      "  saving_api.save_model(\n",
      " 75%|███████▌  | 45/60 [03:52<01:16,  5.13s/it]"
     ]
    },
    {
     "name": "stdout",
     "output_type": "stream",
     "text": [
      "361/361 [==============================] - 2s 5ms/step\n",
      "361/361 [==============================] - 1s 4ms/step\n",
      "\n",
      "The clean accuracy is: 95.20221702606739%\n",
      "The attack success rate is: 99.9913397419243%\n",
      "The pruned channel index is: 16\n"
     ]
    },
    {
     "name": "stderr",
     "output_type": "stream",
     "text": [
      " 77%|███████▋  | 46/60 [03:58<01:13,  5.28s/it]"
     ]
    },
    {
     "name": "stdout",
     "output_type": "stream",
     "text": [
      "361/361 [==============================] - 2s 5ms/step\n",
      "361/361 [==============================] - 1s 4ms/step\n"
     ]
    },
    {
     "name": "stderr",
     "output_type": "stream",
     "text": [
      " 78%|███████▊  | 47/60 [04:03<01:08,  5.24s/it]"
     ]
    },
    {
     "name": "stdout",
     "output_type": "stream",
     "text": [
      "\n",
      "The clean accuracy is: 94.7172425738287%\n",
      "The attack success rate is: 99.9913397419243%\n",
      "The pruned channel index is: 56\n",
      "361/361 [==============================] - 2s 5ms/step\n",
      "361/361 [==============================] - 1s 4ms/step\n",
      "\n",
      "The clean accuracy is: 92.09318437689443%\n",
      "The attack success rate is: 99.9913397419243%\n",
      "The pruned channel index is: 46\n",
      "The accuracy drops at least 4.0%, saving the model as pruned_model_X=4.0%.h5\n",
      "WARNING:tensorflow:Compiled the loaded model, but the compiled metrics have yet to be built. `model.compile_metrics` will be empty until you train or evaluate the model.\n"
     ]
    },
    {
     "name": "stderr",
     "output_type": "stream",
     "text": [
      " 80%|████████  | 48/60 [04:07<01:00,  5.05s/it]"
     ]
    },
    {
     "name": "stdout",
     "output_type": "stream",
     "text": [
      "361/361 [==============================] - 2s 5ms/step\n",
      "361/361 [==============================] - 1s 4ms/step\n"
     ]
    },
    {
     "name": "stderr",
     "output_type": "stream",
     "text": [
      " 82%|████████▏ | 49/60 [04:13<00:56,  5.17s/it]"
     ]
    },
    {
     "name": "stdout",
     "output_type": "stream",
     "text": [
      "\n",
      "The clean accuracy is: 91.49562656967177%\n",
      "The attack success rate is: 99.9913397419243%\n",
      "The pruned channel index is: 5\n",
      "361/361 [==============================] - 3s 5ms/step\n",
      "361/361 [==============================] - 1s 4ms/step\n",
      "\n",
      "The clean accuracy is: 91.01931237550879%\n",
      "The attack success rate is: 99.98267948384861%\n",
      "The pruned channel index is: 8\n"
     ]
    },
    {
     "name": "stderr",
     "output_type": "stream",
     "text": [
      " 83%|████████▎ | 50/60 [04:18<00:52,  5.21s/it]"
     ]
    },
    {
     "name": "stdout",
     "output_type": "stream",
     "text": [
      "361/361 [==============================] - 2s 5ms/step\n",
      "361/361 [==============================] - 1s 4ms/step\n"
     ]
    },
    {
     "name": "stderr",
     "output_type": "stream",
     "text": [
      " 85%|████████▌ | 51/60 [04:23<00:45,  5.03s/it]"
     ]
    },
    {
     "name": "stdout",
     "output_type": "stream",
     "text": [
      "\n",
      "The clean accuracy is: 89.17467740538669%\n",
      "The attack success rate is: 80.73958603966398%\n",
      "The pruned channel index is: 11\n",
      "361/361 [==============================] - 2s 5ms/step\n",
      "361/361 [==============================] - 1s 4ms/step\n",
      "\n",
      "The clean accuracy is: 84.43751623798389%\n",
      "The attack success rate is: 77.015675067117%\n",
      "The pruned channel index is: 54\n",
      "The accuracy drops at least 10.0%, saving the model as pruned_model_X=10.0%.h5\n",
      "WARNING:tensorflow:Compiled the loaded model, but the compiled metrics have yet to be built. `model.compile_metrics` will be empty until you train or evaluate the model.\n"
     ]
    },
    {
     "name": "stderr",
     "output_type": "stream",
     "text": [
      " 87%|████████▋ | 52/60 [04:28<00:41,  5.16s/it]"
     ]
    },
    {
     "name": "stdout",
     "output_type": "stream",
     "text": [
      "361/361 [==============================] - 3s 5ms/step\n",
      "361/361 [==============================] - 1s 4ms/step\n"
     ]
    },
    {
     "name": "stderr",
     "output_type": "stream",
     "text": [
      " 88%|████████▊ | 53/60 [04:33<00:36,  5.15s/it]"
     ]
    },
    {
     "name": "stdout",
     "output_type": "stream",
     "text": [
      "\n",
      "The clean accuracy is: 76.48739932449988%\n",
      "The attack success rate is: 35.71490430414826%\n",
      "The pruned channel index is: 10\n",
      "361/361 [==============================] - 2s 5ms/step\n",
      "361/361 [==============================] - 1s 4ms/step\n"
     ]
    },
    {
     "name": "stderr",
     "output_type": "stream",
     "text": [
      " 90%|█████████ | 54/60 [04:38<00:30,  5.01s/it]"
     ]
    },
    {
     "name": "stdout",
     "output_type": "stream",
     "text": [
      "\n",
      "The clean accuracy is: 54.8627349095003%\n",
      "The attack success rate is: 6.954187234779596%\n",
      "The pruned channel index is: 28\n",
      "361/361 [==============================] - 2s 5ms/step\n",
      "361/361 [==============================] - 1s 4ms/step\n"
     ]
    },
    {
     "name": "stderr",
     "output_type": "stream",
     "text": [
      " 92%|█████████▏| 55/60 [04:44<00:25,  5.17s/it]"
     ]
    },
    {
     "name": "stdout",
     "output_type": "stream",
     "text": [
      "\n",
      "The clean accuracy is: 27.08928726076037%\n",
      "The attack success rate is: 0.4243526457088421%\n",
      "The pruned channel index is: 35\n",
      "361/361 [==============================] - 3s 5ms/step\n",
      "361/361 [==============================] - 1s 4ms/step\n"
     ]
    },
    {
     "name": "stderr",
     "output_type": "stream",
     "text": [
      " 93%|█████████▎| 56/60 [04:49<00:20,  5.22s/it]"
     ]
    },
    {
     "name": "stdout",
     "output_type": "stream",
     "text": [
      "\n",
      "The clean accuracy is: 13.87373343725643%\n",
      "The attack success rate is: 0.0%\n",
      "The pruned channel index is: 18\n",
      "361/361 [==============================] - 2s 5ms/step\n",
      "361/361 [==============================] - 1s 4ms/step\n"
     ]
    },
    {
     "name": "stderr",
     "output_type": "stream",
     "text": [
      " 95%|█████████▌| 57/60 [04:53<00:14,  4.99s/it]"
     ]
    },
    {
     "name": "stdout",
     "output_type": "stream",
     "text": [
      "\n",
      "The clean accuracy is: 7.101411622066338%\n",
      "The attack success rate is: 0.0%\n",
      "The pruned channel index is: 4\n",
      "361/361 [==============================] - 2s 5ms/step\n",
      "361/361 [==============================] - 1s 4ms/step\n",
      "\n",
      "The clean accuracy is: 1.5501861955486274%\n",
      "The attack success rate is: 0.0%\n",
      "The pruned channel index is: 7\n"
     ]
    },
    {
     "name": "stderr",
     "output_type": "stream",
     "text": [
      " 97%|█████████▋| 58/60 [04:59<00:10,  5.16s/it]"
     ]
    },
    {
     "name": "stdout",
     "output_type": "stream",
     "text": [
      "361/361 [==============================] - 2s 5ms/step\n",
      "361/361 [==============================] - 1s 4ms/step\n"
     ]
    },
    {
     "name": "stderr",
     "output_type": "stream",
     "text": [
      " 98%|█████████▊| 59/60 [05:04<00:05,  5.17s/it]"
     ]
    },
    {
     "name": "stdout",
     "output_type": "stream",
     "text": [
      "\n",
      "The clean accuracy is: 0.7188014202823244%\n",
      "The attack success rate is: 0.0%\n",
      "The pruned channel index is: 52\n",
      "361/361 [==============================] - 2s 5ms/step\n",
      "361/361 [==============================] - 1s 4ms/step\n"
     ]
    },
    {
     "name": "stderr",
     "output_type": "stream",
     "text": [
      "100%|██████████| 60/60 [05:09<00:00,  5.15s/it]"
     ]
    },
    {
     "name": "stdout",
     "output_type": "stream",
     "text": [
      "\n",
      "The clean accuracy is: 0.0779423226812159%\n",
      "The attack success rate is: 0.0%\n",
      "The pruned channel index is: 57\n"
     ]
    },
    {
     "name": "stderr",
     "output_type": "stream",
     "text": [
      "\n"
     ]
    }
   ],
   "source": [
    "thresholds = [0.02, 0.04, 0.10]  # 2%, 4%, and 10%\n",
    "pruned_models = prune_and_evaluate(badnet, x_clean_valid, y_clean_valid, x_bd_valid, y_bd_valid, clean_data_accuracy * 100, thresholds)"
   ]
  },
  {
   "cell_type": "code",
   "execution_count": 156,
   "metadata": {
    "scrolled": true
   },
   "outputs": [
    {
     "name": "stdout",
     "output_type": "stream",
     "text": [
      "['pruned_model_X=2.0%.h5', 'pruned_model_X=4.0%.h5', 'pruned_model_X=10.0%.h5']\n"
     ]
    }
   ],
   "source": [
    "print(pruned_models)"
   ]
  },
  {
   "cell_type": "markdown",
   "metadata": {},
   "source": [
    "### Evaluation of the pruned models"
   ]
  },
  {
   "cell_type": "code",
   "execution_count": 157,
   "metadata": {},
   "outputs": [],
   "source": [
    "# # For getting back saved models if they were saved before and evaluating\n",
    "pruned_models = ['pruned_model_X=2.0%.h5', 'pruned_model_X=4.0%.h5', 'pruned_model_X=10.0%.h5']"
   ]
  },
  {
   "cell_type": "code",
   "execution_count": 158,
   "metadata": {},
   "outputs": [
    {
     "name": "stdout",
     "output_type": "stream",
     "text": [
      "WARNING:tensorflow:No training configuration found in the save file, so the model was *not* compiled. Compile it manually.\n",
      "WARNING:tensorflow:No training configuration found in the save file, so the model was *not* compiled. Compile it manually.\n",
      "WARNING:tensorflow:No training configuration found in the save file, so the model was *not* compiled. Compile it manually.\n"
     ]
    }
   ],
   "source": [
    "# Load pruned models\n",
    "loaded_pruned_models = [load_model(filename) for filename in pruned_models]"
   ]
  },
  {
   "cell_type": "code",
   "execution_count": 159,
   "metadata": {},
   "outputs": [],
   "source": [
    "def evaluate_pruned_model(model, x_clean_test, y_clean_test, x_poisoned_test, y_poisoned_test):\n",
    "    # Predict with pruned model on clean and poisoned test data\n",
    "    clean_pred = np.argmax(model.predict(x_clean_test), axis=1)\n",
    "    poisoned_pred = np.argmax(model.predict(x_poisoned_test), axis=1)\n",
    "\n",
    "    # Calculate accuracy on clean data\n",
    "    clean_accuracy = np.mean(clean_pred == y_clean_test)\n",
    "\n",
    "    # Calculate attack success rate\n",
    "    attack_success_rate = np.mean(poisoned_pred == y_poisoned_test)\n",
    "\n",
    "    return clean_accuracy, attack_success_rate"
   ]
  },
  {
   "cell_type": "code",
   "execution_count": 160,
   "metadata": {},
   "outputs": [
    {
     "name": "stdout",
     "output_type": "stream",
     "text": [
      "401/401 [==============================] - 3s 5ms/step\n",
      "401/401 [==============================] - 2s 4ms/step\n",
      "Pruned Model 0: Accuracy = 95.90%, Attack Success Rate = 100.00%\n",
      "401/401 [==============================] - 3s 6ms/step\n",
      "401/401 [==============================] - 2s 4ms/step\n",
      "Pruned Model 1: Accuracy = 92.29%, Attack Success Rate = 99.98%\n",
      "401/401 [==============================] - 3s 5ms/step\n",
      "401/401 [==============================] - 2s 4ms/step\n",
      "Pruned Model 2: Accuracy = 84.54%, Attack Success Rate = 77.21%\n"
     ]
    }
   ],
   "source": [
    "pruned_model_accuracies = []\n",
    "pruned_model_attack_success_rates = []\n",
    "\n",
    "for i, model in enumerate(loaded_pruned_models):\n",
    "    accuracy, attack_success_rate = evaluate_pruned_model(\n",
    "        model, x_clean_test, y_clean_test, x_poisoned_test, y_poisoned_test)\n",
    "    pruned_model_accuracies.append(accuracy)\n",
    "    pruned_model_attack_success_rates.append(attack_success_rate)\n",
    "    print(f\"Pruned Model {i}: Accuracy = {accuracy*100:.2f}%, Attack Success Rate = {attack_success_rate*100:.2f}%\")"
   ]
  },
  {
   "cell_type": "markdown",
   "metadata": {},
   "source": [
    "### Constructing and Evaluating the goodnet models from the original badnet model and the pruned models"
   ]
  },
  {
   "cell_type": "code",
   "execution_count": 161,
   "metadata": {
    "id": "8JWiwB_m7OmY",
    "scrolled": true
   },
   "outputs": [],
   "source": [
    "def construct_goodnet(badnet, pruned_badnet, n_classes):\n",
    "    def goodnet_predict(input_data):\n",
    "        # Predict using both the original and pruned models\n",
    "        prediction_B = np.argmax(badnet.predict(input_data), axis=1)\n",
    "        prediction_B_prime = np.argmax(pruned_badnet.predict(input_data), axis=1)\n",
    "\n",
    "        # Compare predictions and decide the output\n",
    "        output_pred = np.where(prediction_B == prediction_B_prime, prediction_B, n_classes)\n",
    "        return output_pred\n",
    "\n",
    "    return goodnet_predict\n",
    "\n"
   ]
  },
  {
   "cell_type": "code",
   "execution_count": 162,
   "metadata": {
    "id": "LmjhDvtEetZe",
    "scrolled": true
   },
   "outputs": [],
   "source": [
    "# Construct GoodNets with loaded models\n",
    "# passing N+1 as num_classes to be returned when backdoored input is detected\n",
    "goodnets = [construct_goodnet(badnet, loaded_pruned_model, N+1) for loaded_pruned_model in loaded_pruned_models]\n"
   ]
  },
  {
   "cell_type": "code",
   "execution_count": 163,
   "metadata": {
    "id": "cF1yAUFjinG0",
    "scrolled": true
   },
   "outputs": [],
   "source": [
    "def evaluate_goodnet(goodnet, x_clean_test, y_clean_test, x_poisoned_test, y_poisoned_test, n_classes):\n",
    "    # Predict with GoodNet on clean and poisoned test data\n",
    "    clean_pred = goodnet(x_clean_test)\n",
    "    poisoned_pred = goodnet(x_poisoned_test)\n",
    "\n",
    "    # Calculate accuracy on clean data\n",
    "    clean_accuracy = np.mean(clean_pred == y_clean_test)\n",
    "    attack_success_rate = np.mean(poisoned_pred == y_poisoned_test)\n",
    "\n",
    "    return clean_accuracy, attack_success_rate\n"
   ]
  },
  {
   "cell_type": "code",
   "execution_count": 164,
   "metadata": {
    "id": "tFKxR5bZiLGq",
    "scrolled": true
   },
   "outputs": [
    {
     "name": "stdout",
     "output_type": "stream",
     "text": [
      "401/401 [==============================] - 3s 6ms/step\n",
      "401/401 [==============================] - 2s 4ms/step\n",
      "401/401 [==============================] - 2s 5ms/step\n",
      "401/401 [==============================] - 1s 4ms/step\n",
      "GoodNet 0: Accuracy = 95.74%, Attack Success Rate = 100.00%\n",
      "401/401 [==============================] - 2s 4ms/step\n",
      "401/401 [==============================] - 2s 4ms/step\n",
      "401/401 [==============================] - 2s 4ms/step\n",
      "401/401 [==============================] - 1s 4ms/step\n",
      "GoodNet 1: Accuracy = 92.13%, Attack Success Rate = 99.98%\n",
      "401/401 [==============================] - 2s 4ms/step\n",
      "401/401 [==============================] - 1s 4ms/step\n",
      "401/401 [==============================] - 2s 4ms/step\n",
      "401/401 [==============================] - 1s 4ms/step\n",
      "GoodNet 2: Accuracy = 84.33%, Attack Success Rate = 77.21%\n"
     ]
    }
   ],
   "source": [
    "# Evaluate each GoodNet\n",
    "goodnet_accuracies = []\n",
    "goodnet_attack_success_rates = []\n",
    "\n",
    "for i, goodnet in enumerate(goodnets):\n",
    "    accuracy, attack_success_rate = evaluate_goodnet(\n",
    "        goodnet, x_clean_test, y_clean_test, x_poisoned_test, y_poisoned_test, N+1\n",
    "    )\n",
    "    goodnet_accuracies.append(accuracy)\n",
    "    goodnet_attack_success_rates.append(attack_success_rate)\n",
    "    print(f\"GoodNet {i}: Accuracy = {accuracy*100:.2f}%, Attack Success Rate = {attack_success_rate*100:.2f}%\")\n"
   ]
  },
  {
   "cell_type": "markdown",
   "metadata": {},
   "source": [
    "### Functions for plotting graphs and tables"
   ]
  },
  {
   "cell_type": "code",
   "execution_count": 165,
   "metadata": {},
   "outputs": [],
   "source": [
    "import matplotlib.pyplot as plt\n",
    "def printAccuracyAndAttackSuccessRatesGraph(thresholds_percentages, accuracies_percentages, attack_success_rates_percentages):\n",
    "    num_thresholds = len(thresholds_percentages)\n",
    "    # Setting up the bar chart\n",
    "    fig, ax = plt.subplots()\n",
    "    index = np.arange(num_thresholds)\n",
    "    bar_width = 0.2\n",
    "    opacity = 0.8\n",
    "    # Creating bars for accuracies and attack rates\n",
    "    accuracy_bars = ax.bar(index, accuracies_percentages, bar_width,\n",
    "        alpha=opacity, color='b', label='Accuracy')\n",
    "\n",
    "    attack_rate_bars = ax.bar(index + bar_width, attack_success_rates_percentages, bar_width,\n",
    "        alpha=opacity, color='r', label='Attack Success Rate')\n",
    "    # Adding the text on the bars\n",
    "    for bar in accuracy_bars:\n",
    "        yval = bar.get_height()\n",
    "        ax.text(bar.get_x() + bar.get_width()/2, yval, round(yval, 1), ha='center', va='bottom')\n",
    "    for bar in attack_rate_bars:\n",
    "        yval = bar.get_height()\n",
    "        ax.text(bar.get_x() + bar.get_width()/2, yval, round(yval, 1), ha='center', va='bottom')\n",
    "    # Adding labels, title and customizing axes\n",
    "    ax.set_xlabel('Thresholds (%)')\n",
    "    ax.set_ylabel('Percentage (%)')\n",
    "    ax.set_title('Accuracy and Attack Success Rates as Percentages for Each Threshold')\n",
    "    ax.set_xticks(index + bar_width / 2)\n",
    "    ax.set_xticklabels([f\"{thresh}\" for thresh in thresholds_percentages])\n",
    "    ax.legend()\n",
    "    # Displaying the plot\n",
    "    plt.tight_layout()\n",
    "    plt.show()\n"
   ]
  },
  {
   "cell_type": "code",
   "execution_count": 166,
   "metadata": {},
   "outputs": [],
   "source": [
    "import pandas as pd\n",
    "def printResultsTable(thresholds_percentages, accuracies_percentages, attack_success_rates_percentages):\n",
    "    data = {\n",
    "    'Threshold (%)': thresholds_percentages,\n",
    "    'Accuracy (%)': accuracies_percentages,\n",
    "    'Attack Success Rate (%)': attack_success_rates_percentages\n",
    "    }\n",
    "\n",
    "    df = pd.DataFrame(data)\n",
    "\n",
    "    print(df)"
   ]
  },
  {
   "cell_type": "markdown",
   "metadata": {},
   "source": [
    "### Showing results for Goodnet Models"
   ]
  },
  {
   "cell_type": "code",
   "execution_count": 167,
   "metadata": {},
   "outputs": [],
   "source": [
    "thresholds_percentages = [x * 100 for x in thresholds]"
   ]
  },
  {
   "cell_type": "code",
   "execution_count": 168,
   "metadata": {},
   "outputs": [],
   "source": [
    "goodnet_accuracies_percentages = [x * 100 for x in goodnet_accuracies]\n",
    "goodnet_attack_success_rates_percentages = [x * 100 for x in goodnet_attack_success_rates]"
   ]
  },
  {
   "cell_type": "code",
   "execution_count": 169,
   "metadata": {},
   "outputs": [
    {
     "data": {
      "image/png": "[encoded data removed]",
      "text/plain": [
       "<Figure size 640x480 with 1 Axes>"
      ]
     },
     "metadata": {},
     "output_type": "display_data"
    }
   ],
   "source": [
    "printAccuracyAndAttackSuccessRatesGraph(thresholds_percentages, goodnet_accuracies_percentages, goodnet_attack_success_rates_percentages)"
   ]
  },
  {
   "cell_type": "code",
   "execution_count": 170,
   "metadata": {},
   "outputs": [
    {
     "name": "stdout",
     "output_type": "stream",
     "text": [
      "   Threshold (%)  Accuracy (%)  Attack Success Rate (%)\n",
      "0            2.0     95.744349               100.000000\n",
      "1            4.0     92.127825                99.984412\n",
      "2           10.0     84.333593                77.209665\n"
     ]
    }
   ],
   "source": [
    "printResultsTable(thresholds_percentages, goodnet_accuracies_percentages, goodnet_attack_success_rates_percentages)"
   ]
  },
  {
   "cell_type": "markdown",
   "metadata": {},
   "source": [
    "### Showing results for pruned models"
   ]
  },
  {
   "cell_type": "code",
   "execution_count": 171,
   "metadata": {},
   "outputs": [],
   "source": [
    "pruned_model_accuracies_percentages = [x * 100 for x in pruned_model_accuracies]\n",
    "pruned_model_attack_success_rates_percentages = [x * 100 for x in pruned_model_attack_success_rates]"
   ]
  },
  {
   "cell_type": "code",
   "execution_count": 172,
   "metadata": {},
   "outputs": [
    {
     "data": {
      "image/png": "[encoded data removed]",
      "text/plain": [
       "<Figure size 640x480 with 1 Axes>"
      ]
     },
     "metadata": {},
     "output_type": "display_data"
    }
   ],
   "source": [
    "# Now, use your existing functions to print graphs and tables for the pruned models\n",
    "printAccuracyAndAttackSuccessRatesGraph(pruned_models, pruned_model_accuracies_percentages, pruned_model_attack_success_rates_percentages)"
   ]
  },
  {
   "cell_type": "code",
   "execution_count": 173,
   "metadata": {},
   "outputs": [
    {
     "name": "stdout",
     "output_type": "stream",
     "text": [
      "             Threshold (%)  Accuracy (%)  Attack Success Rate (%)\n",
      "0   pruned_model_X=2.0%.h5     95.900234               100.000000\n",
      "1   pruned_model_X=4.0%.h5     92.291504                99.984412\n",
      "2  pruned_model_X=10.0%.h5     84.544037                77.209665\n"
     ]
    }
   ],
   "source": [
    "printResultsTable(pruned_models, pruned_model_accuracies_percentages, pruned_model_attack_success_rates_percentages)"
   ]
  },
  {
   "cell_type": "markdown",
   "metadata": {},
   "source": [
    "### Conclusion"
   ]
  },
  {
   "cell_type": "markdown",
   "metadata": {},
   "source": [
    "We see that the results for the pruned models and the goodnet models we created are exactly the same. The GoodNet models developed show promising results in both maintaining high accuracy on clean data and effectively detecting backdoored inputs. "
   ]
  }
 ],
 "metadata": {
  "colab": {
   "provenance": []
  },
  "kernelspec": {
   "display_name": "Python 3 (ipykernel)",
   "language": "python",
   "name": "python3"
  },
  "language_info": {
   "codemirror_mode": {
    "name": "ipython",
    "version": 3
   },
   "file_extension": ".py",
   "mimetype": "text/x-python",
   "name": "python",
   "nbconvert_exporter": "python",
   "pygments_lexer": "ipython3",
   "version": "3.10.7"
  }
 },
 "nbformat": 4,
 "nbformat_minor": 1
}
